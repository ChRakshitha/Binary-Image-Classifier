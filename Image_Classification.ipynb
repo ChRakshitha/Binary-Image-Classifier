{
  "cells": [
    {
      "cell_type": "code",
      "execution_count": null,
      "metadata": {
        "id": "qNtF_Gjss0pC"
      },
      "outputs": [],
      "source": [
        "import tensorflow as tf\n",
        "from tensorflow import keras\n",
        "from tensorflow.keras import layers\n",
        "import numpy as np\n",
        "import matplotlib.pyplot as plt\n",
        "import os"
      ]
    },
    {
      "cell_type": "code",
      "execution_count": null,
      "metadata": {
        "id": "ChSwxeQ1tplw"
      },
      "outputs": [],
      "source": [
        "import tensorflow_datasets as tfds\n",
        "\n",
        "# Load dataset\n",
        "dataset_name = \"cats_vs_dogs\"\n",
        "(raw_train, raw_test), metadata = tfds.load(dataset_name, split=['train[:80%]', 'train[80%:]'], as_supervised=True, with_info=True)\n"
      ]
    },
    {
      "cell_type": "code",
      "execution_count": null,
      "metadata": {
        "id": "le4iR9etuMFo"
      },
      "outputs": [],
      "source": [
        "IMG_SIZE = 150  # Resize to 150x150\n",
        "\n",
        "def format_image(image, label):\n",
        "    image = tf.image.resize(image, (IMG_SIZE, IMG_SIZE))  # Resize\n",
        "    image = image / 255.0  # Normalize\n",
        "    return image, label\n",
        "\n",
        "train = raw_train.map(format_image)\n",
        "test = raw_test.map(format_image)"
      ]
    },
    {
      "cell_type": "code",
      "execution_count": null,
      "metadata": {
        "id": "jxjlmXOHucuQ"
      },
      "outputs": [],
      "source": [
        "model = keras.Sequential([\n",
        "    layers.Conv2D(32, (3,3), activation='relu', input_shape=(IMG_SIZE, IMG_SIZE, 3)),\n",
        "    layers.MaxPooling2D(2,2),\n",
        "    layers.Conv2D(64, (3,3), activation='relu'),\n",
        "    layers.MaxPooling2D(2,2),\n",
        "    layers.Conv2D(128, (3,3), activation='relu'),\n",
        "    layers.MaxPooling2D(2,2),\n",
        "    layers.Flatten(),\n",
        "    layers.Dense(512, activation='relu'),\n",
        "    layers.Dense(1, activation='sigmoid')  # Binary classification\n",
        "])\n",
        "\n",
        "model.compile(optimizer='adam', loss='binary_crossentropy', metrics=['accuracy'])\n"
      ]
    },
    {
      "cell_type": "code",
      "execution_count": null,
      "metadata": {
        "id": "4_CYwDvkuoEf"
      },
      "outputs": [],
      "source": [
        "BATCH_SIZE = 32\n",
        "train_batches = train.batch(BATCH_SIZE)\n",
        "test_batches = test.batch(BATCH_SIZE)"
      ]
    },
    {
      "cell_type": "code",
      "execution_count": null,
      "metadata": {
        "id": "NhVmnuSSUfRT"
      },
      "outputs": [],
      "source": [
        "history = model.fit(train_batches, epochs=10, validation_data=test_batches)"
      ]
    },
    {
      "cell_type": "code",
      "execution_count": null,
      "metadata": {
        "id": "5wqTR9YEA9J2"
      },
      "outputs": [],
      "source": [
        "model.save(\"cats_vs_dogs_best.h5\")"
      ]
    },
    {
      "cell_type": "code",
      "execution_count": 24,
      "metadata": {
        "colab": {
          "base_uri": "https://localhost:8080/"
        },
        "id": "keTZQ51OB0wG",
        "outputId": "cc6f9823-e438-45a3-d581-9277c4f3e7e3"
      },
      "outputs": [
        {
          "output_type": "stream",
          "name": "stdout",
          "text": [
            "\u001b[1m146/146\u001b[0m \u001b[32m━━━━━━━━━━━━━━━━━━━━\u001b[0m\u001b[37m\u001b[0m \u001b[1m74s\u001b[0m 502ms/step - accuracy: 0.7995 - loss: 0.4905\n",
            "\n",
            "Test Accuracy: 80.65%\n"
          ]
        }
      ],
      "source": [
        "test_loss, test_acc = model.evaluate(test_batches)\n",
        "print(f\"\\nTest Accuracy: {test_acc * 100:.2f}%\")"
      ]
    },
    {
      "cell_type": "code",
      "execution_count": 25,
      "metadata": {
        "colab": {
          "base_uri": "https://localhost:8080/"
        },
        "id": "1grGIJR5BH49",
        "outputId": "da853ea2-3aa9-45b4-b855-5525b7a56225"
      },
      "outputs": [
        {
          "output_type": "stream",
          "name": "stderr",
          "text": [
            "WARNING:absl:Compiled the loaded model, but the compiled metrics have yet to be built. `model.compile_metrics` will be empty until you train or evaluate the model.\n"
          ]
        },
        {
          "output_type": "stream",
          "name": "stdout",
          "text": [
            "\u001b[1m1/1\u001b[0m \u001b[32m━━━━━━━━━━━━━━━━━━━━\u001b[0m\u001b[37m\u001b[0m \u001b[1m0s\u001b[0m 137ms/step\n",
            "Dog\n"
          ]
        }
      ],
      "source": [
        "from tensorflow.keras.models import load_model\n",
        "model = load_model(\"cats_vs_dogs_best.h5\")\n",
        "\n",
        "import cv2\n",
        "import numpy as np\n",
        "img = cv2.imread(\"/content/88ff5600-d979-11ef-a5c8-1da73bd59591.jpg\")  # Load a test image\n",
        "img = cv2.resize(img, (150, 150))  # Resize to model input shape\n",
        "img = np.expand_dims(img, axis=0) / 255.0  # Normalize\n",
        "prediction = model.predict(img)\n",
        "print(\"Dog\" if prediction > 0.5 else \"Cat\")\n"
      ]
    }
  ],
  "metadata": {
    "colab": {
      "provenance": []
    },
    "kernelspec": {
      "display_name": "Python 3",
      "name": "python3"
    },
    "language_info": {
      "name": "python"
    }
  },
  "nbformat": 4,
  "nbformat_minor": 0
}